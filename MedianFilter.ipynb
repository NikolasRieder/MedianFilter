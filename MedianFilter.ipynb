{
 "cells": [
  {
   "cell_type": "code",
   "execution_count": 1,
   "metadata": {},
   "outputs": [],
   "source": [
    "%matplotlib notebook\n",
    "\n",
    "# Laden der verwendeten Bibliotheken\n",
    "from PIL import Image\n",
    "import   numpy  as np               \n",
    "import   scipy \n",
    "import   time\n",
    "from     scipy import signal"
   ]
  },
  {
   "cell_type": "code",
   "execution_count": 2,
   "metadata": {},
   "outputs": [],
   "source": [
    "# Implementierung der Median-Funktion\n",
    "def MyMedian(source_data, kernel_row, kernel_column):\n",
    "    \n",
    "    #Kopie des Quellbildes\n",
    "    final_data = np.copy(source_data)     \n",
    "\n",
    "    #Zeilen und spalten des Quellbildes erkennen\n",
    "    source_row = source_data.shape[0] # anzahl der Zeilen / row y\n",
    "    source_column = source_data.shape[1] # anzahl der Spalten / column x\n",
    "\n",
    "    #Typkonvertierung um den SPeicher nicht zu belasten\n",
    "    final_data = final_data.astype(int)\n",
    "    source_data = source_data.astype(int)\n",
    "\n",
    "    #Ungerade Maske generieren.\n",
    "    if(kernel_row % 2 == 0):\n",
    "        kernel_row += 1\n",
    "        print('kernel_row',kernel_row)\n",
    "    else:\n",
    "        print('kernel_row',kernel_row)\n",
    "    if(kernel_column % 2 == 0):\n",
    "        kernel_column += 1\n",
    "        print('kernel_column',kernel_column)\n",
    "    else: \n",
    "        print('kernel_column',kernel_column)\n",
    "        \n",
    "    #Laufvariablen des Bildes mit Bildgrenzen\n",
    "    for img_column in range(int(kernel_column/2),source_column-int(kernel_column/2)):\n",
    "        for img_row in range(int(kernel_row/2),source_row-int(kernel_row/2)):\n",
    "            #Initialisierung des localen Histogramms\n",
    "            histogramm =[0]\n",
    "            #Laufvariablen der Maske mit Maskengrenzen\n",
    "            for mask_x in range(img_column-int(kernel_column/2),img_column+int(kernel_column/2)):\n",
    "                for mask_y in range(img_row-(int(kernel_row/2)),img_row+(int(kernel_row/2))):\n",
    "                    #Pixelwert zwischen speichern\n",
    "                    greyvalue = source_data[mask_y][mask_x]\n",
    "                    #Liste aus den Pixelwerten\n",
    "                    histogramm.append(int(greyvalue))\n",
    "            #Sortierung der Grauwerte von klein nach groß\n",
    "            histogramm.sort()\n",
    "            #Median auf Zielpixel übergeben\n",
    "            final_data[img_row][img_column] = histogramm[int(((kernel_row*kernel_column-1)/2))]\n",
    "            #Zielbild zurückgeben\n",
    "    return final_data\n",
    "\n",
    "def main(): \n",
    "    img = Image.open(\"D:/Anaconda3/Meine_Programme/Bildverarbeitung/resources/shaft.bmp\")\n",
    "    region = img.crop((100, 50, 580, 494))  # links oben - unten rechts\n",
    "    region.show()\n",
    "    \n",
    "    kernel_row = 30\n",
    "    kernel_column = 35\n",
    "    source_data = np.array(region)\n",
    "    start = time.time()\n",
    "    list_median = MyMedian(source_data, kernel_row, kernel_column)\n",
    "    img_median_array = Image.fromarray(list_median)\n",
    "    ende = time.time()\n",
    "    img_median_array.show()\n",
    "    print('Runtime   = {:5.3f}s'.format(ende-start))\n",
    "    \n",
    "    \n",
    "    \n"
   ]
  },
  {
   "cell_type": "code",
   "execution_count": 3,
   "metadata": {},
   "outputs": [
    {
     "output_type": "stream",
     "name": "stdout",
     "text": "kernel_row 31\nkernel_column 35\nRuntime   = 91.207s\n"
    }
   ],
   "source": [
    "main()"
   ]
  }
 ],
 "metadata": {
  "kernelspec": {
   "display_name": "Python 3.7.7 64-bit ('py37': conda)",
   "language": "python",
   "name": "python37764bitpy37condaa2e36f2a2a334bfe9aee2cee3bba7a30"
  },
  "language_info": {
   "codemirror_mode": {
    "name": "ipython",
    "version": 3
   },
   "file_extension": ".py",
   "mimetype": "text/x-python",
   "name": "python",
   "nbconvert_exporter": "python",
   "pygments_lexer": "ipython3",
   "version": "3.7.7-final"
  }
 },
 "nbformat": 4,
 "nbformat_minor": 4
}